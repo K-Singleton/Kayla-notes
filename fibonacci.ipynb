{
  "nbformat": 4,
  "nbformat_minor": 0,
  "metadata": {
    "colab": {
      "provenance": [],
      "authorship_tag": "ABX9TyNLGcxPSBMks8QQQPTBfywE",
      "include_colab_link": true
    },
    "kernelspec": {
      "name": "python3",
      "display_name": "Python 3"
    },
    "language_info": {
      "name": "python"
    }
  },
  "cells": [
    {
      "cell_type": "markdown",
      "metadata": {
        "id": "view-in-github",
        "colab_type": "text"
      },
      "source": [
        "<a href=\"https://colab.research.google.com/github/K-Singleton/Kayla-notes/blob/main/fibonacci.ipynb\" target=\"_parent\"><img src=\"https://colab.research.google.com/assets/colab-badge.svg\" alt=\"Open In Colab\"/></a>"
      ]
    },
    {
      "cell_type": "code",
      "source": [
        "x = int(input('enter number:'))\n",
        "def fibanocci(n):\n",
        "  if n 0:\n",
        "\n",
        "\n",
        "  return fibanocci(n-1)+fibanocci(n-2)\n"
      ],
      "metadata": {
        "colab": {
          "base_uri": "https://localhost:8080/"
        },
        "id": "MS6cVFz_SY7L",
        "outputId": "7cbb1205-1379-40db-a89f-e45293525e7e"
      },
      "execution_count": null,
      "outputs": [
        {
          "name": "stdout",
          "output_type": "stream",
          "text": [
            "enter number:0\n"
          ]
        }
      ]
    },
    {
      "cell_type": "code",
      "source": [
        "def fib(n):\n",
        "  if n==0:\n",
        "    return 0\n",
        "  if n==1:\n",
        "    return 1\n",
        "  return fib(n-1) + fib(n-2)"
      ],
      "metadata": {
        "id": "jI8YtWxfeXLW"
      },
      "execution_count": null,
      "outputs": []
    },
    {
      "cell_type": "code",
      "source": [
        "fib(30)"
      ],
      "metadata": {
        "colab": {
          "base_uri": "https://localhost:8080/"
        },
        "id": "C4Ljdxd0bbEn",
        "outputId": "0c12df2e-7614-4515-929d-74c7a66365f8"
      },
      "execution_count": null,
      "outputs": [
        {
          "output_type": "execute_result",
          "data": {
            "text/plain": [
              "832040"
            ]
          },
          "metadata": {},
          "execution_count": 10
        }
      ]
    },
    {
      "cell_type": "code",
      "source": [
        "from time import sleep"
      ],
      "metadata": {
        "id": "X1SSJIc_fMyc"
      },
      "execution_count": null,
      "outputs": []
    },
    {
      "cell_type": "code",
      "source": [
        "def fib2(n):\n",
        "  sleep(1)\n",
        "  if n==0:\n",
        "    return 0\n",
        "  if n==1:\n",
        "    return 1\n",
        "  a = fib2(n-1)\n",
        "  b = fib2(n-2)\n",
        "  c = a+b\n",
        "  return c"
      ],
      "metadata": {
        "id": "3DX-PXeMbVSZ"
      },
      "execution_count": null,
      "outputs": []
    },
    {
      "cell_type": "code",
      "source": [
        "memo = {0:0,1:1}\n",
        "def fibm(n):\n",
        "    if n in memo:\n",
        "        return memo[n]\n",
        "    a = fibm(n-1)\n",
        "    b = fibm(n-2)\n",
        "    c = a+b\n",
        "    memo[n] = c\n",
        "    return c"
      ],
      "metadata": {
        "id": "Wp7usiaLl5d1"
      },
      "execution_count": null,
      "outputs": []
    },
    {
      "cell_type": "code",
      "source": [
        "memo = [0,1]\n",
        "def fibm2(n):\n",
        "  if n in memo:\n",
        "    return memo[n]\n",
        "  for i in range(2,n+1):\n",
        "    memo.append(memo[i-1] + memo[i-2])\n",
        "  return memo[n]"
      ],
      "metadata": {
        "id": "AoqolimV248d"
      },
      "execution_count": null,
      "outputs": []
    },
    {
      "cell_type": "code",
      "source": [
        "memo[-5:]"
      ],
      "metadata": {
        "colab": {
          "base_uri": "https://localhost:8080/"
        },
        "id": "GIo3Rhjy4-QM",
        "outputId": "315db88e-d5d4-4853-a26c-34435336bbfb"
      },
      "execution_count": null,
      "outputs": [
        {
          "output_type": "execute_result",
          "data": {
            "text/plain": [
              "[25299086886460014123638912132660481092568,\n",
              " 40934782466626897231455922361056586914829,\n",
              " 66233869353085488021911559113270425402673,\n",
              " 107168651819712326913214078094248219906576,\n",
              " 173402521172797813160039262132551203959375]"
            ]
          },
          "metadata": {},
          "execution_count": 83
        }
      ]
    },
    {
      "cell_type": "code",
      "source": [
        "len(memo)"
      ],
      "metadata": {
        "colab": {
          "base_uri": "https://localhost:8080/"
        },
        "id": "IzePulYF5EMP",
        "outputId": "32812425-4ce6-4170-82ea-10e4f37927ae"
      },
      "execution_count": null,
      "outputs": [
        {
          "output_type": "execute_result",
          "data": {
            "text/plain": [
              "20099"
            ]
          },
          "metadata": {},
          "execution_count": 84
        }
      ]
    },
    {
      "cell_type": "code",
      "source": [
        "fibm2(100)"
      ],
      "metadata": {
        "colab": {
          "base_uri": "https://localhost:8080/"
        },
        "id": "N4CV997mgTJj",
        "outputId": "5fdd1204-590d-4911-f372-d0e34644ec83"
      },
      "execution_count": null,
      "outputs": [
        {
          "output_type": "execute_result",
          "data": {
            "text/plain": [
              "354224848179261915075"
            ]
          },
          "metadata": {},
          "execution_count": 80
        }
      ]
    },
    {
      "cell_type": "code",
      "source": [
        "fibm2(10000)"
      ],
      "metadata": {
        "colab": {
          "base_uri": "https://localhost:8080/"
        },
        "id": "pZ02PO_RblTB",
        "outputId": "4069d839-a94c-4039-dc3b-bff13dc62f92"
      },
      "execution_count": null,
      "outputs": [
        {
          "output_type": "execute_result",
          "data": {
            "text/plain": [
              "173402521172797813159685037284371942044301"
            ]
          },
          "metadata": {},
          "execution_count": 81
        }
      ]
    },
    {
      "cell_type": "code",
      "source": [
        "len(f'{fibm2(10000)}')"
      ],
      "metadata": {
        "colab": {
          "base_uri": "https://localhost:8080/"
        },
        "id": "hFoxLqto4n3l",
        "outputId": "55d0fe09-11fa-4b72-9264-f04471c9c372"
      },
      "execution_count": null,
      "outputs": [
        {
          "output_type": "execute_result",
          "data": {
            "text/plain": [
              "42"
            ]
          },
          "metadata": {},
          "execution_count": 82
        }
      ]
    },
    {
      "cell_type": "code",
      "source": [
        "memo = [0, 1]\n",
        "fibm2(2)\n",
        "fibm2(5)\n",
        "memo"
      ],
      "metadata": {
        "colab": {
          "base_uri": "https://localhost:8080/"
        },
        "id": "giEzVyal65bg",
        "outputId": "2cf701b4-7fd8-45ec-be09-0716e08afb3d"
      },
      "execution_count": null,
      "outputs": [
        {
          "output_type": "execute_result",
          "data": {
            "text/plain": [
              "[0, 1, 1, 1, 2, 2, 3]"
            ]
          },
          "metadata": {},
          "execution_count": 85
        }
      ]
    },
    {
      "cell_type": "code",
      "source": [
        "def fibgpt(n):\n",
        "    fib = [0, 1]  # Initialize the first two Fibonacci numbers\n",
        "    for i in range(2, n + 1):\n",
        "        fib.append(fib[i - 1] + fib[i - 2])  # Add the previous two numbers\n",
        "    return fib[n]\n",
        "\n",
        "n = 10000\n",
        "fibonacci_number = fibgpt(n)\n",
        "len(f\"{fibonacci_number}\")\n"
      ],
      "metadata": {
        "colab": {
          "base_uri": "https://localhost:8080/"
        },
        "id": "Tl4yYvGA65Rv",
        "outputId": "d4bd4a9e-4269-4c6a-c3c2-122810a499bf"
      },
      "execution_count": null,
      "outputs": [
        {
          "output_type": "execute_result",
          "data": {
            "text/plain": [
              "2090"
            ]
          },
          "metadata": {},
          "execution_count": 2
        }
      ]
    },
    {
      "cell_type": "code",
      "source": [
        "fibgpt(10000)"
      ],
      "metadata": {
        "colab": {
          "base_uri": "https://localhost:8080/"
        },
        "id": "NdVqQzZA8YIo",
        "outputId": "2da042d5-139e-499f-b9d1-ccfe4d9db0b0"
      },
      "execution_count": null,
      "outputs": [
        {
          "output_type": "execute_result",
          "data": {
            "text/plain": [
              "33644764876431783266621612005107543310302148460680063906564769974680081442166662368155595513633734025582065332680836159373734790483865268263040892463056431887354544369559827491606602099884183933864652731300088830269235673613135117579297437854413752130520504347701602264758318906527890855154366159582987279682987510631200575428783453215515103870818298969791613127856265033195487140214287532698187962046936097879900350962302291026368131493195275630227837628441540360584402572114334961180023091208287046088923962328835461505776583271252546093591128203925285393434620904245248929403901706233888991085841065183173360437470737908552631764325733993712871937587746897479926305837065742830161637408969178426378624212835258112820516370298089332099905707920064367426202389783111470054074998459250360633560933883831923386783056136435351892133279732908133732642652633989763922723407882928177953580570993691049175470808931841056146322338217465637321248226383092103297701648054726243842374862411453093812206564914032751086643394517512161526545361333111314042436854805106765843493523836959653428071768775328348234345557366719731392746273629108210679280784718035329131176778924659089938635459327894523777674406192240337638674004021330343297496902028328145933418826817683893072003634795623117103101291953169794607632737589253530772552375943788434504067715555779056450443016640119462580972216729758615026968443146952034614932291105970676243268515992834709891284706740862008587135016260312071903172086094081298321581077282076353186624611278245537208532365305775956430072517744315051539600905168603220349163222640885248852433158051534849622434848299380905070483482449327453732624567755879089187190803662058009594743150052402532709746995318770724376825907419939632265984147498193609285223945039707165443156421328157688908058783183404917434556270520223564846495196112460268313970975069382648706613264507665074611512677522748621598642530711298441182622661057163515069260029861704945425047491378115154139941550671256271197133252763631939606902895650288268608362241082050562430701794976171121233066073310059947366875"
            ]
          },
          "metadata": {},
          "execution_count": 3
        }
      ]
    },
    {
      "cell_type": "code",
      "source": [
        "def fibgpt(n):\n",
        "    fib = [0, 1]  # Initialize the first two Fibonacci numbers\n",
        "    for i in range(2, n + 1):\n",
        "        fib.append(fib[i - 1] + fib[i - 2])  # Add the previous two numbers\n",
        "    return fib[n]"
      ],
      "metadata": {
        "id": "4xYgciph-2QF"
      },
      "execution_count": null,
      "outputs": []
    },
    {
      "cell_type": "code",
      "source": [
        "import numpy as np"
      ],
      "metadata": {
        "id": "FE0BSqvXKBSd"
      },
      "execution_count": null,
      "outputs": []
    },
    {
      "cell_type": "code",
      "source": [
        "def fibgpt2(n):\n",
        "  base = np.array([0,1])\n",
        "  matrix = np.array([[1,1],[1,0]])\n",
        "  F = np.array([[1,0],[0,1]])\n",
        "  for i in range(n):\n",
        "    F = F @ matrix\n",
        "  return F @ base"
      ],
      "metadata": {
        "id": "btHsQoOtKJFW"
      },
      "execution_count": null,
      "outputs": []
    },
    {
      "cell_type": "code",
      "source": [
        "fibgpt2(10)"
      ],
      "metadata": {
        "colab": {
          "base_uri": "https://localhost:8080/"
        },
        "id": "U7d0i6NsM2Bb",
        "outputId": "bc473856-6b8e-45a0-db32-41c4ea149c0f"
      },
      "execution_count": null,
      "outputs": [
        {
          "output_type": "execute_result",
          "data": {
            "text/plain": [
              "array([55, 34])"
            ]
          },
          "metadata": {},
          "execution_count": 53
        }
      ]
    },
    {
      "cell_type": "code",
      "source": [
        "fibgpt2(10000)"
      ],
      "metadata": {
        "colab": {
          "base_uri": "https://localhost:8080/"
        },
        "id": "chaWk7RNi7FB",
        "outputId": "7d0e7a73-2f71-42e4-e02c-6a1cd3db24ff"
      },
      "execution_count": null,
      "outputs": [
        {
          "output_type": "execute_result",
          "data": {
            "text/plain": [
              "array([-2872092127636481573,  2788724563990792802])"
            ]
          },
          "metadata": {},
          "execution_count": 54
        }
      ]
    },
    {
      "cell_type": "code",
      "source": [
        "base = np.array([0,1])\n",
        "print(base)\n",
        "matrix = np.array([[1,1],[1,0]])\n",
        "matrix2 = np.array([])\n",
        "print(matrix)"
      ],
      "metadata": {
        "colab": {
          "base_uri": "https://localhost:8080/"
        },
        "id": "OgXTAuU8K0JC",
        "outputId": "ef7a37eb-43c1-4ade-ce67-29c5cbe8bddc"
      },
      "execution_count": null,
      "outputs": [
        {
          "output_type": "stream",
          "name": "stdout",
          "text": [
            "[0 1]\n",
            "[[1 1]\n",
            " [1 0]]\n"
          ]
        }
      ]
    },
    {
      "cell_type": "code",
      "source": [
        "matrix = np.array([[0],[1]])\n",
        "print(matrix)"
      ],
      "metadata": {
        "colab": {
          "base_uri": "https://localhost:8080/"
        },
        "id": "vnwW3_C4d1X7",
        "outputId": "3a6d6d88-db3a-4e57-df85-99c9313a99f9"
      },
      "execution_count": null,
      "outputs": [
        {
          "output_type": "stream",
          "name": "stdout",
          "text": [
            "[[0]\n",
            " [1]]\n"
          ]
        }
      ]
    },
    {
      "cell_type": "code",
      "source": [
        "import sys\n",
        "sys.version"
      ],
      "metadata": {
        "colab": {
          "base_uri": "https://localhost:8080/",
          "height": 37
        },
        "id": "mGG-Xc9QhIM3",
        "outputId": "cf02daa3-0267-4159-f79f-b48aa15cd855"
      },
      "execution_count": null,
      "outputs": [
        {
          "output_type": "execute_result",
          "data": {
            "text/plain": [
              "'3.10.12 (main, Jun  7 2023, 12:45:35) [GCC 9.4.0]'"
            ],
            "application/vnd.google.colaboratory.intrinsic+json": {
              "type": "string"
            }
          },
          "metadata": {},
          "execution_count": 41
        }
      ]
    },
    {
      "cell_type": "code",
      "source": [
        "np.iinfo(int)"
      ],
      "metadata": {
        "colab": {
          "base_uri": "https://localhost:8080/"
        },
        "id": "vpyuGzfnkERJ",
        "outputId": "b5b05f89-1640-4158-eda3-202088325be8"
      },
      "execution_count": null,
      "outputs": [
        {
          "output_type": "execute_result",
          "data": {
            "text/plain": [
              "iinfo(min=-9223372036854775808, max=9223372036854775807, dtype=int64)"
            ]
          },
          "metadata": {},
          "execution_count": 55
        }
      ]
    }
  ]
}